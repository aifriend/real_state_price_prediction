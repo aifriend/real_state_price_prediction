{
 "cells": [
  {
   "cell_type": "code",
   "id": "initial_id",
   "metadata": {
    "collapsed": true,
    "ExecuteTime": {
     "end_time": "2024-04-26T08:18:03.553895Z",
     "start_time": "2024-04-26T08:18:03.506623Z"
    }
   },
   "source": [
    "#import all neccesary modules\n",
    "import numpy as np\n",
    "import pandas as pd\n",
    "import matplotlib.pyplot as plt\n",
    "import seaborn as sns\n",
    "from pathlib import Path"
   ],
   "outputs": [],
   "execution_count": 2
  },
  {
   "metadata": {},
   "cell_type": "markdown",
   "source": [
    "Data Loading and Preprocessing\n",
    "- Load the data files\n",
    "- Perform data cleaning and preprocessing:\n",
    " - Handle missing values\n",
    " - Convert data types if necessary\n",
    " - Merge relevant datasets based on common columns\n",
    "- Explore the data to gain initial insights"
   ],
   "id": "6294776811f8417e"
  },
  {
   "metadata": {
    "ExecuteTime": {
     "end_time": "2024-04-26T08:25:29.471591Z",
     "start_time": "2024-04-26T08:25:26.280505Z"
    }
   },
   "cell_type": "code",
   "source": [
    "df1 = pd.read_csv(Path.cwd().parent.joinpath(\"data\", \"raw\", \"listings.csv\"), index_col='id')\n",
    "df2 = pd.read_csv(Path.cwd().parent.joinpath(\"data\", \"raw\", \"listings.csv.gz\"), index_col='id')\n",
    "listings_df = pd.concat([df1, df2], axis=1)\n",
    "listings_df.head()"
   ],
   "id": "55ee4db6f92baca5",
   "outputs": [
    {
     "name": "stderr",
     "output_type": "stream",
     "text": [
      "/var/folders/fr/d5jw13w127g13tsz21x0x2mr0000gp/T/ipykernel_12952/2494948961.py:2: DtypeWarning: Columns (43,61,62) have mixed types. Specify dtype option on import or set low_memory=False.\n",
      "  df2 = pd.read_csv(Path.cwd().parent.joinpath(\"data\", \"raw\", \"listings.csv.gz\"), index_col='id')\n"
     ]
    },
    {
     "data": {
      "text/plain": [
       "                                           name  host_id host_name  \\\n",
       "id                                                                   \n",
       "6369   Rooftop terrace room ,  ensuite bathroom    13660     Simon   \n",
       "21853                      Bright and airy room    83531     Abdel   \n",
       "23001         Apartmento Arganzuela- Madrid Rio    82175     Jesus   \n",
       "24805                    Gran Via Studio Madrid   101471    Iraido   \n",
       "24836            Select the Madrid more \"cool\".   101653     Tenty   \n",
       "\n",
       "      neighbourhood_group   neighbourhood  latitude  longitude  \\\n",
       "id                                                               \n",
       "6369            Chamartín  Hispanoamérica  40.45628   -3.67763   \n",
       "21853              Latina        Cármenes  40.40341   -3.74084   \n",
       "23001          Arganzuela         Legazpi  40.38695   -3.69304   \n",
       "24805              Centro     Universidad  40.42202   -3.70395   \n",
       "24836              Centro        Justicia  40.41995   -3.69764   \n",
       "\n",
       "             room_type  price  minimum_nights  ...  instant_bookable  \\\n",
       "id                                             ...                     \n",
       "6369      Private room     70               1  ...                 f   \n",
       "21853     Private room     17               4  ...                 f   \n",
       "23001  Entire home/apt     50              15  ...                 f   \n",
       "24805  Entire home/apt     80               5  ...                 f   \n",
       "24836  Entire home/apt    115               3  ...                 f   \n",
       "\n",
       "      is_business_travel_ready          cancellation_policy  \\\n",
       "id                                                            \n",
       "6369                         f                     flexible   \n",
       "21853                        f  strict_14_with_grace_period   \n",
       "23001                        f                     moderate   \n",
       "24805                        f                     moderate   \n",
       "24836                        f                     moderate   \n",
       "\n",
       "       require_guest_profile_picture  require_guest_phone_verification  \\\n",
       "id                                                                       \n",
       "6369                               f                                 f   \n",
       "21853                              f                                 f   \n",
       "23001                              f                                 f   \n",
       "24805                              f                                 f   \n",
       "24836                              f                                 f   \n",
       "\n",
       "      calculated_host_listings_count  \\\n",
       "id                                     \n",
       "6369                               1   \n",
       "21853                              2   \n",
       "23001                              6   \n",
       "24805                              1   \n",
       "24836                              1   \n",
       "\n",
       "       calculated_host_listings_count_entire_homes  \\\n",
       "id                                                   \n",
       "6369                                             0   \n",
       "21853                                            0   \n",
       "23001                                            6   \n",
       "24805                                            1   \n",
       "24836                                            1   \n",
       "\n",
       "      calculated_host_listings_count_private_rooms  \\\n",
       "id                                                   \n",
       "6369                                             1   \n",
       "21853                                            2   \n",
       "23001                                            0   \n",
       "24805                                            0   \n",
       "24836                                            0   \n",
       "\n",
       "      calculated_host_listings_count_shared_rooms reviews_per_month  \n",
       "id                                                                   \n",
       "6369                                            0              0.61  \n",
       "21853                                           0              0.52  \n",
       "23001                                           0               NaN  \n",
       "24805                                           0              0.14  \n",
       "24836                                           0              0.64  \n",
       "\n",
       "[5 rows x 120 columns]"
      ],
      "text/html": [
       "<div>\n",
       "<style scoped>\n",
       "    .dataframe tbody tr th:only-of-type {\n",
       "        vertical-align: middle;\n",
       "    }\n",
       "\n",
       "    .dataframe tbody tr th {\n",
       "        vertical-align: top;\n",
       "    }\n",
       "\n",
       "    .dataframe thead th {\n",
       "        text-align: right;\n",
       "    }\n",
       "</style>\n",
       "<table border=\"1\" class=\"dataframe\">\n",
       "  <thead>\n",
       "    <tr style=\"text-align: right;\">\n",
       "      <th></th>\n",
       "      <th>name</th>\n",
       "      <th>host_id</th>\n",
       "      <th>host_name</th>\n",
       "      <th>neighbourhood_group</th>\n",
       "      <th>neighbourhood</th>\n",
       "      <th>latitude</th>\n",
       "      <th>longitude</th>\n",
       "      <th>room_type</th>\n",
       "      <th>price</th>\n",
       "      <th>minimum_nights</th>\n",
       "      <th>...</th>\n",
       "      <th>instant_bookable</th>\n",
       "      <th>is_business_travel_ready</th>\n",
       "      <th>cancellation_policy</th>\n",
       "      <th>require_guest_profile_picture</th>\n",
       "      <th>require_guest_phone_verification</th>\n",
       "      <th>calculated_host_listings_count</th>\n",
       "      <th>calculated_host_listings_count_entire_homes</th>\n",
       "      <th>calculated_host_listings_count_private_rooms</th>\n",
       "      <th>calculated_host_listings_count_shared_rooms</th>\n",
       "      <th>reviews_per_month</th>\n",
       "    </tr>\n",
       "    <tr>\n",
       "      <th>id</th>\n",
       "      <th></th>\n",
       "      <th></th>\n",
       "      <th></th>\n",
       "      <th></th>\n",
       "      <th></th>\n",
       "      <th></th>\n",
       "      <th></th>\n",
       "      <th></th>\n",
       "      <th></th>\n",
       "      <th></th>\n",
       "      <th></th>\n",
       "      <th></th>\n",
       "      <th></th>\n",
       "      <th></th>\n",
       "      <th></th>\n",
       "      <th></th>\n",
       "      <th></th>\n",
       "      <th></th>\n",
       "      <th></th>\n",
       "      <th></th>\n",
       "      <th></th>\n",
       "    </tr>\n",
       "  </thead>\n",
       "  <tbody>\n",
       "    <tr>\n",
       "      <th>6369</th>\n",
       "      <td>Rooftop terrace room ,  ensuite bathroom</td>\n",
       "      <td>13660</td>\n",
       "      <td>Simon</td>\n",
       "      <td>Chamartín</td>\n",
       "      <td>Hispanoamérica</td>\n",
       "      <td>40.45628</td>\n",
       "      <td>-3.67763</td>\n",
       "      <td>Private room</td>\n",
       "      <td>70</td>\n",
       "      <td>1</td>\n",
       "      <td>...</td>\n",
       "      <td>f</td>\n",
       "      <td>f</td>\n",
       "      <td>flexible</td>\n",
       "      <td>f</td>\n",
       "      <td>f</td>\n",
       "      <td>1</td>\n",
       "      <td>0</td>\n",
       "      <td>1</td>\n",
       "      <td>0</td>\n",
       "      <td>0.61</td>\n",
       "    </tr>\n",
       "    <tr>\n",
       "      <th>21853</th>\n",
       "      <td>Bright and airy room</td>\n",
       "      <td>83531</td>\n",
       "      <td>Abdel</td>\n",
       "      <td>Latina</td>\n",
       "      <td>Cármenes</td>\n",
       "      <td>40.40341</td>\n",
       "      <td>-3.74084</td>\n",
       "      <td>Private room</td>\n",
       "      <td>17</td>\n",
       "      <td>4</td>\n",
       "      <td>...</td>\n",
       "      <td>f</td>\n",
       "      <td>f</td>\n",
       "      <td>strict_14_with_grace_period</td>\n",
       "      <td>f</td>\n",
       "      <td>f</td>\n",
       "      <td>2</td>\n",
       "      <td>0</td>\n",
       "      <td>2</td>\n",
       "      <td>0</td>\n",
       "      <td>0.52</td>\n",
       "    </tr>\n",
       "    <tr>\n",
       "      <th>23001</th>\n",
       "      <td>Apartmento Arganzuela- Madrid Rio</td>\n",
       "      <td>82175</td>\n",
       "      <td>Jesus</td>\n",
       "      <td>Arganzuela</td>\n",
       "      <td>Legazpi</td>\n",
       "      <td>40.38695</td>\n",
       "      <td>-3.69304</td>\n",
       "      <td>Entire home/apt</td>\n",
       "      <td>50</td>\n",
       "      <td>15</td>\n",
       "      <td>...</td>\n",
       "      <td>f</td>\n",
       "      <td>f</td>\n",
       "      <td>moderate</td>\n",
       "      <td>f</td>\n",
       "      <td>f</td>\n",
       "      <td>6</td>\n",
       "      <td>6</td>\n",
       "      <td>0</td>\n",
       "      <td>0</td>\n",
       "      <td>NaN</td>\n",
       "    </tr>\n",
       "    <tr>\n",
       "      <th>24805</th>\n",
       "      <td>Gran Via Studio Madrid</td>\n",
       "      <td>101471</td>\n",
       "      <td>Iraido</td>\n",
       "      <td>Centro</td>\n",
       "      <td>Universidad</td>\n",
       "      <td>40.42202</td>\n",
       "      <td>-3.70395</td>\n",
       "      <td>Entire home/apt</td>\n",
       "      <td>80</td>\n",
       "      <td>5</td>\n",
       "      <td>...</td>\n",
       "      <td>f</td>\n",
       "      <td>f</td>\n",
       "      <td>moderate</td>\n",
       "      <td>f</td>\n",
       "      <td>f</td>\n",
       "      <td>1</td>\n",
       "      <td>1</td>\n",
       "      <td>0</td>\n",
       "      <td>0</td>\n",
       "      <td>0.14</td>\n",
       "    </tr>\n",
       "    <tr>\n",
       "      <th>24836</th>\n",
       "      <td>Select the Madrid more \"cool\".</td>\n",
       "      <td>101653</td>\n",
       "      <td>Tenty</td>\n",
       "      <td>Centro</td>\n",
       "      <td>Justicia</td>\n",
       "      <td>40.41995</td>\n",
       "      <td>-3.69764</td>\n",
       "      <td>Entire home/apt</td>\n",
       "      <td>115</td>\n",
       "      <td>3</td>\n",
       "      <td>...</td>\n",
       "      <td>f</td>\n",
       "      <td>f</td>\n",
       "      <td>moderate</td>\n",
       "      <td>f</td>\n",
       "      <td>f</td>\n",
       "      <td>1</td>\n",
       "      <td>1</td>\n",
       "      <td>0</td>\n",
       "      <td>0</td>\n",
       "      <td>0.64</td>\n",
       "    </tr>\n",
       "  </tbody>\n",
       "</table>\n",
       "<p>5 rows × 120 columns</p>\n",
       "</div>"
      ]
     },
     "execution_count": 6,
     "metadata": {},
     "output_type": "execute_result"
    }
   ],
   "execution_count": 6
  },
  {
   "metadata": {
    "ExecuteTime": {
     "end_time": "2024-04-26T09:12:35.043827Z",
     "start_time": "2024-04-26T09:12:34.423793Z"
    }
   },
   "cell_type": "code",
   "source": [
    "# checking for null values\n",
    "listings_df.isna().sum()"
   ],
   "id": "687552a1c6503901",
   "outputs": [
    {
     "data": {
      "text/plain": [
       "name                                               3\n",
       "host_id                                            0\n",
       "host_name                                         25\n",
       "neighbourhood_group                                0\n",
       "neighbourhood                                      0\n",
       "                                                ... \n",
       "calculated_host_listings_count                     0\n",
       "calculated_host_listings_count_entire_homes        0\n",
       "calculated_host_listings_count_private_rooms       0\n",
       "calculated_host_listings_count_shared_rooms        0\n",
       "reviews_per_month                               4291\n",
       "Length: 120, dtype: int64"
      ]
     },
     "execution_count": 14,
     "metadata": {},
     "output_type": "execute_result"
    }
   ],
   "execution_count": 14
  },
  {
   "metadata": {
    "ExecuteTime": {
     "end_time": "2024-04-26T08:27:28.243135Z",
     "start_time": "2024-04-26T08:27:28.218784Z"
    }
   },
   "cell_type": "code",
   "source": "listings_df.info()",
   "id": "275648c8ef8fdd6b",
   "outputs": [
    {
     "name": "stdout",
     "output_type": "stream",
     "text": [
      "<class 'pandas.core.frame.DataFrame'>\n",
      "Index: 21495 entries, 6369 to 41452557\n",
      "Columns: 120 entries, name to reviews_per_month\n",
      "dtypes: float64(26), int64(26), object(68)\n",
      "memory usage: 19.8+ MB\n"
     ]
    }
   ],
   "execution_count": 10
  },
  {
   "metadata": {
    "ExecuteTime": {
     "end_time": "2024-04-26T08:33:09.918701Z",
     "start_time": "2024-04-26T08:33:08.947706Z"
    }
   },
   "cell_type": "code",
   "source": [
    "# checking for duplicate values\n",
    "listings_df.duplicated().sum()"
   ],
   "id": "2f1de027c5aa87d4",
   "outputs": [
    {
     "data": {
      "text/plain": [
       "0"
      ]
     },
     "execution_count": 11,
     "metadata": {},
     "output_type": "execute_result"
    }
   ],
   "execution_count": 11
  },
  {
   "metadata": {
    "ExecuteTime": {
     "end_time": "2024-04-26T09:08:03.384958Z",
     "start_time": "2024-04-26T09:08:03.133239Z"
    }
   },
   "cell_type": "code",
   "source": "listings_df['host_name'].describe()",
   "id": "df85594e35995ce7",
   "outputs": [
    {
     "data": {
      "text/plain": [
       "       host_name host_name\n",
       "count      21470     21470\n",
       "unique      4191      4191\n",
       "top      Claudia   Claudia\n",
       "freq         302       302"
      ],
      "text/html": [
       "<div>\n",
       "<style scoped>\n",
       "    .dataframe tbody tr th:only-of-type {\n",
       "        vertical-align: middle;\n",
       "    }\n",
       "\n",
       "    .dataframe tbody tr th {\n",
       "        vertical-align: top;\n",
       "    }\n",
       "\n",
       "    .dataframe thead th {\n",
       "        text-align: right;\n",
       "    }\n",
       "</style>\n",
       "<table border=\"1\" class=\"dataframe\">\n",
       "  <thead>\n",
       "    <tr style=\"text-align: right;\">\n",
       "      <th></th>\n",
       "      <th>host_name</th>\n",
       "      <th>host_name</th>\n",
       "    </tr>\n",
       "  </thead>\n",
       "  <tbody>\n",
       "    <tr>\n",
       "      <th>count</th>\n",
       "      <td>21470</td>\n",
       "      <td>21470</td>\n",
       "    </tr>\n",
       "    <tr>\n",
       "      <th>unique</th>\n",
       "      <td>4191</td>\n",
       "      <td>4191</td>\n",
       "    </tr>\n",
       "    <tr>\n",
       "      <th>top</th>\n",
       "      <td>Claudia</td>\n",
       "      <td>Claudia</td>\n",
       "    </tr>\n",
       "    <tr>\n",
       "      <th>freq</th>\n",
       "      <td>302</td>\n",
       "      <td>302</td>\n",
       "    </tr>\n",
       "  </tbody>\n",
       "</table>\n",
       "</div>"
      ]
     },
     "execution_count": 13,
     "metadata": {},
     "output_type": "execute_result"
    }
   ],
   "execution_count": 13
  },
  {
   "metadata": {
    "ExecuteTime": {
     "end_time": "2024-04-26T09:15:02.667445Z",
     "start_time": "2024-04-26T09:15:02.253817Z"
    }
   },
   "cell_type": "code",
   "source": [
    "sns.scatterplot('space', 'price', data=listings_df)\n",
    "plt.title(\"A scatterplot showing the relationship between size and rent\")\n",
    "plt.show()"
   ],
   "id": "a9bdc41dd904b972",
   "outputs": [
    {
     "ename": "TypeError",
     "evalue": "scatterplot() got multiple values for argument 'data'",
     "output_type": "error",
     "traceback": [
      "\u001B[0;31m---------------------------------------------------------------------------\u001B[0m",
      "\u001B[0;31mTypeError\u001B[0m                                 Traceback (most recent call last)",
      "Cell \u001B[0;32mIn[15], line 1\u001B[0m\n\u001B[0;32m----> 1\u001B[0m \u001B[43msns\u001B[49m\u001B[38;5;241;43m.\u001B[39;49m\u001B[43mscatterplot\u001B[49m\u001B[43m(\u001B[49m\u001B[38;5;124;43m'\u001B[39;49m\u001B[38;5;124;43mspace\u001B[39;49m\u001B[38;5;124;43m'\u001B[39;49m\u001B[43m,\u001B[49m\u001B[43m \u001B[49m\u001B[38;5;124;43m'\u001B[39;49m\u001B[38;5;124;43mprice\u001B[39;49m\u001B[38;5;124;43m'\u001B[39;49m\u001B[43m,\u001B[49m\u001B[43m \u001B[49m\u001B[43mdata\u001B[49m\u001B[38;5;241;43m=\u001B[39;49m\u001B[43mlistings_df\u001B[49m\u001B[43m)\u001B[49m\n\u001B[1;32m      2\u001B[0m plt\u001B[38;5;241m.\u001B[39mtitle(\u001B[38;5;124m\"\u001B[39m\u001B[38;5;124mA scatterplot showing the relationship between size and rent\u001B[39m\u001B[38;5;124m\"\u001B[39m)\n\u001B[1;32m      3\u001B[0m plt\u001B[38;5;241m.\u001B[39mshow()\n",
      "\u001B[0;31mTypeError\u001B[0m: scatterplot() got multiple values for argument 'data'"
     ]
    }
   ],
   "execution_count": 15
  }
 ],
 "metadata": {
  "kernelspec": {
   "display_name": "Python 3",
   "language": "python",
   "name": "python3"
  },
  "language_info": {
   "codemirror_mode": {
    "name": "ipython",
    "version": 2
   },
   "file_extension": ".py",
   "mimetype": "text/x-python",
   "name": "python",
   "nbconvert_exporter": "python",
   "pygments_lexer": "ipython2",
   "version": "2.7.6"
  }
 },
 "nbformat": 4,
 "nbformat_minor": 5
}
